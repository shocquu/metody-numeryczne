{
 "cells": [
  {
   "cell_type": "code",
   "execution_count": 161,
   "id": "aa1e7a8d",
   "metadata": {},
   "outputs": [],
   "source": [
    "import math\n",
    "\n",
    "a, b = 0, math.pi"
   ]
  },
  {
   "cell_type": "code",
   "execution_count": 167,
   "id": "cca56f96",
   "metadata": {},
   "outputs": [],
   "source": [
    "import random\n",
    "import math\n",
    "\n",
    "def f1(x):\n",
    "    return math.log(x) / x\n",
    "\n",
    "def f(x): return math.sin(x)\n",
    "\n",
    "def monte_carlo_method(f, a, b, n = 10_000):\n",
    "    count = 0\n",
    "    for i in range(n):\n",
    "        x, y = random.uniform(a, b), random.uniform(0, 1)        \n",
    "        if y <= f(x): count += 1\n",
    "    \n",
    "    area = math.pi*1\n",
    "    return count/n * area"
   ]
  },
  {
   "cell_type": "code",
   "execution_count": 168,
   "id": "717b82e4",
   "metadata": {},
   "outputs": [
    {
     "data": {
      "image/png": "[encoded data removed]",
      "text/plain": [
       "<Figure size 432x288 with 1 Axes>"
      ]
     },
     "metadata": {
      "needs_background": "light"
     },
     "output_type": "display_data"
    }
   ],
   "source": [
    "import matplotlib.pyplot as plt\n",
    "import numpy as np\n",
    "\n",
    "x = np.arange(a, b, 0.1)\n",
    "y = [f(i) for i in x]\n",
    "plt.plot(x, y)\n",
    "plt.fill_between(x, y, 0, alpha=0.2)\n",
    "plt.show()\n"
   ]
  },
  {
   "cell_type": "code",
   "execution_count": 169,
   "id": "67edfd53",
   "metadata": {},
   "outputs": [
    {
     "data": {
      "text/plain": [
       "2.000138945205092"
      ]
     },
     "execution_count": 169,
     "metadata": {},
     "output_type": "execute_result"
    }
   ],
   "source": [
    "monte_carlo_method(f, a, b, 1_000_000)"
   ]
  },
  {
   "cell_type": "code",
   "execution_count": 175,
   "id": "f5ff40ac",
   "metadata": {},
   "outputs": [
    {
     "data": {
      "text/html": [
       "<iframe src=\"https://www.wolframalpha.com/input/?i=integral+of+sinx+from+0+to+pi\" width=\"800\" height=\"400\"></iframe>\n"
      ],
      "text/plain": [
       "<IPython.core.display.HTML object>"
      ]
     },
     "metadata": {},
     "output_type": "display_data"
    }
   ],
   "source": [
    "%%html\n",
    "<iframe src=\"https://www.wolframalpha.com/input/?i=integral+of+sinx+from+0+to+pi\" width=\"800\" height=\"400\"></iframe>"
   ]
  }
 ],
 "metadata": {
  "kernelspec": {
   "display_name": "Python 3",
   "language": "python",
   "name": "python3"
  },
  "language_info": {
   "codemirror_mode": {
    "name": "ipython",
    "version": 3
   },
   "file_extension": ".py",
   "mimetype": "text/x-python",
   "name": "python",
   "nbconvert_exporter": "python",
   "pygments_lexer": "ipython3",
   "version": "3.8.0"
  }
 },
 "nbformat": 4,
 "nbformat_minor": 5
}
